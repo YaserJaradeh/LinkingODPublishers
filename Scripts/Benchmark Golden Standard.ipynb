{
 "cells": [
  {
   "cell_type": "code",
   "execution_count": 1,
   "metadata": {},
   "outputs": [
    {
     "name": "stdout",
     "output_type": "stream",
     "text": [
      "Requirement already satisfied: pyspotlight in /home/isws/anaconda3/lib/python3.7/site-packages (0.7.2)\r\n",
      "Requirement already satisfied: requests~=2.10 in /home/isws/anaconda3/lib/python3.7/site-packages (from pyspotlight) (2.21.0)\r\n",
      "Requirement already satisfied: certifi>=2017.4.17 in /home/isws/anaconda3/lib/python3.7/site-packages (from requests~=2.10->pyspotlight) (2019.3.9)\r\n",
      "Requirement already satisfied: urllib3<1.25,>=1.21.1 in /home/isws/anaconda3/lib/python3.7/site-packages (from requests~=2.10->pyspotlight) (1.24.1)\r\n",
      "Requirement already satisfied: idna<2.9,>=2.5 in /home/isws/anaconda3/lib/python3.7/site-packages (from requests~=2.10->pyspotlight) (2.8)\r\n",
      "Requirement already satisfied: chardet<3.1.0,>=3.0.2 in /home/isws/anaconda3/lib/python3.7/site-packages (from requests~=2.10->pyspotlight) (3.0.4)\r\n"
     ]
    }
   ],
   "source": [
    "import requests\n",
    "import csv\n",
    "import pandas as pd\n",
    "import numpy as np\n",
    "!pip install pyspotlight\n",
    "import spotlight"
   ]
  },
  {
   "cell_type": "code",
   "execution_count": 2,
   "metadata": {},
   "outputs": [],
   "source": [
    "def search_wikidata(entity):\n",
    "    url = \"https://www.wikidata.org/w/api.php?action=wbsearchentities&search=\"+entity+\"&language=en&format=json\"\n",
    "    response = requests.request(\"GET\", url)\n",
    "    try:\n",
    "        res = response.json()['search'][0]\n",
    "        return res['concepturi'], res['label']\n",
    "    except:\n",
    "        return '', ''"
   ]
  },
  {
   "cell_type": "code",
   "execution_count": 3,
   "metadata": {},
   "outputs": [],
   "source": [
    "def search_dbpedia(entity):\n",
    "    url = \"http://lookup.dbpedia.org/api/search/PrefixSearch\"\n",
    "    querystring = {\"MaxHits\":\"5\",\"QueryString\":entity}\n",
    "    headers = {\n",
    "        'Accept': \"application/json\",\n",
    "        'cache-control': \"no-cache\",\n",
    "        'Postman-Token': \"c0a7c9ad-4277-408e-b5d6-fb03f9cbd526\"\n",
    "        }\n",
    "    response = requests.request(\"GET\", url, headers=headers, params=querystring)\n",
    "    try:\n",
    "        res = response.json()['results'][0]\n",
    "        return res['uri'], res['label']\n",
    "    except:\n",
    "        return '', ''"
   ]
  },
  {
   "cell_type": "code",
   "execution_count": 4,
   "metadata": {},
   "outputs": [],
   "source": [
    "def dbpedia_spotlight(organization):\n",
    "    try:\n",
    "        res = spotlight.annotate(\"https://api.dbpedia-spotlight.org/en/annotate\", organization, confidence=0.4)[0]\n",
    "        return res['URI']\n",
    "    except:\n",
    "        return ''"
   ]
  },
  {
   "cell_type": "code",
   "execution_count": 5,
   "metadata": {},
   "outputs": [
    {
     "data": {
      "text/html": [
       "<div>\n",
       "<style scoped>\n",
       "    .dataframe tbody tr th:only-of-type {\n",
       "        vertical-align: middle;\n",
       "    }\n",
       "\n",
       "    .dataframe tbody tr th {\n",
       "        vertical-align: top;\n",
       "    }\n",
       "\n",
       "    .dataframe thead th {\n",
       "        text-align: right;\n",
       "    }\n",
       "</style>\n",
       "<table border=\"1\" class=\"dataframe\">\n",
       "  <thead>\n",
       "    <tr style=\"text-align: right;\">\n",
       "      <th></th>\n",
       "      <th>Portal Identifier</th>\n",
       "      <th>Snapshot Identifier</th>\n",
       "      <th>Dataset Identifier</th>\n",
       "      <th>Organization</th>\n",
       "      <th>Wikidata URI (latest)</th>\n",
       "      <th>DBpedai URI (latest)</th>\n",
       "    </tr>\n",
       "  </thead>\n",
       "  <tbody>\n",
       "    <tr>\n",
       "      <th>0</th>\n",
       "      <td>data_gov\\n</td>\n",
       "      <td>1847</td>\n",
       "      <td>9602aa07-3eff-438b-9904-151cfd114685</td>\n",
       "      <td>California Natural Resource Agency</td>\n",
       "      <td>https://www.wikidata.org/entity/Q5020712</td>\n",
       "      <td>NaN</td>\n",
       "    </tr>\n",
       "    <tr>\n",
       "      <th>1</th>\n",
       "      <td>www_daten_rlp_de</td>\n",
       "      <td>1641</td>\n",
       "      <td>95548f0f-890f-4f28-a841-b427b84256a0</td>\n",
       "      <td>Open-Government-Data-Portal Rheinland-Pfalz</td>\n",
       "      <td>https://www.wikidata.org/entity/Q63428138</td>\n",
       "      <td>NaN</td>\n",
       "    </tr>\n",
       "    <tr>\n",
       "      <th>2</th>\n",
       "      <td>govdata_de</td>\n",
       "      <td>1638</td>\n",
       "      <td>9552e0f2-422c-4c1b-8184-07c5606a75e8</td>\n",
       "      <td>Transparenzportal Hamburg</td>\n",
       "      <td>https://www.wikidata.org/entity/Q59273672</td>\n",
       "      <td>NaN</td>\n",
       "    </tr>\n",
       "    <tr>\n",
       "      <th>3</th>\n",
       "      <td>data_gov_au</td>\n",
       "      <td>1624</td>\n",
       "      <td>955ac416-cf9f-4f87-a46e-056f704f1567</td>\n",
       "      <td>Australian Institute of Marine Science</td>\n",
       "      <td>https://www.wikidata.org/entity/Q4824311</td>\n",
       "      <td>http://dbpedia.org/resource/Australian_Institu...</td>\n",
       "    </tr>\n",
       "    <tr>\n",
       "      <th>4</th>\n",
       "      <td>daten_rlp_de</td>\n",
       "      <td>1624</td>\n",
       "      <td>955aee5c-44ad-4b1c-a5d7-aceca7002fd7</td>\n",
       "      <td>Statistisches Landesamt Rheinland-Pfalz</td>\n",
       "      <td>https://www.wikidata.org/entity/Q2333954</td>\n",
       "      <td>http://dbpedia.org/resource/Statistisches_Land...</td>\n",
       "    </tr>\n",
       "  </tbody>\n",
       "</table>\n",
       "</div>"
      ],
      "text/plain": [
       "  Portal Identifier  Snapshot Identifier  \\\n",
       "0        data_gov\\n                 1847   \n",
       "1  www_daten_rlp_de                 1641   \n",
       "2        govdata_de                 1638   \n",
       "3       data_gov_au                 1624   \n",
       "4      daten_rlp_de                 1624   \n",
       "\n",
       "                     Dataset Identifier  \\\n",
       "0  9602aa07-3eff-438b-9904-151cfd114685   \n",
       "1  95548f0f-890f-4f28-a841-b427b84256a0   \n",
       "2  9552e0f2-422c-4c1b-8184-07c5606a75e8   \n",
       "3  955ac416-cf9f-4f87-a46e-056f704f1567   \n",
       "4  955aee5c-44ad-4b1c-a5d7-aceca7002fd7   \n",
       "\n",
       "                                  Organization  \\\n",
       "0           California Natural Resource Agency   \n",
       "1  Open-Government-Data-Portal Rheinland-Pfalz   \n",
       "2                    Transparenzportal Hamburg   \n",
       "3       Australian Institute of Marine Science   \n",
       "4      Statistisches Landesamt Rheinland-Pfalz   \n",
       "\n",
       "                       Wikidata URI (latest)  \\\n",
       "0   https://www.wikidata.org/entity/Q5020712   \n",
       "1  https://www.wikidata.org/entity/Q63428138   \n",
       "2  https://www.wikidata.org/entity/Q59273672   \n",
       "3   https://www.wikidata.org/entity/Q4824311   \n",
       "4   https://www.wikidata.org/entity/Q2333954   \n",
       "\n",
       "                                DBpedai URI (latest)  \n",
       "0                                                NaN  \n",
       "1                                                NaN  \n",
       "2                                                NaN  \n",
       "3  http://dbpedia.org/resource/Australian_Institu...  \n",
       "4  http://dbpedia.org/resource/Statistisches_Land...  "
      ]
     },
     "execution_count": 5,
     "metadata": {},
     "output_type": "execute_result"
    }
   ],
   "source": [
    "df = pd.read_csv('./standard.csv')\n",
    "df.head()"
   ]
  },
  {
   "cell_type": "code",
   "execution_count": 6,
   "metadata": {},
   "outputs": [],
   "source": [
    "wiki = {}\n",
    "pedia = {}\n",
    "for org in df.Organization:\n",
    "    wiki[org]=search_wikidata(org)[0]\n",
    "    pedia[org]=search_dbpedia(org)[0]"
   ]
  },
  {
   "cell_type": "code",
   "execution_count": 7,
   "metadata": {
    "scrolled": true
   },
   "outputs": [],
   "source": [
    "y_true_wiki = []\n",
    "y_pred_wiki = []\n",
    "y_true_pedia = []\n",
    "y_pred_pedia = []\n",
    "for row in df.iterrows():\n",
    "    org = row[1]['Organization']\n",
    "    y_true_wiki.append(row[1]['Wikidata URI (latest)'][row[1]['Wikidata URI (latest)'].rfind('/'):])\n",
    "    y_pred_wiki.append(wiki[org][wiki[org].rfind('/'):])\n",
    "    y_true_pedia.append(row[1]['DBpedai URI (latest)'])\n",
    "    y_pred_pedia.append(pedia[org])"
   ]
  },
  {
   "cell_type": "code",
   "execution_count": 8,
   "metadata": {},
   "outputs": [],
   "source": [
    "from sklearn.metrics import precision_recall_fscore_support"
   ]
  },
  {
   "cell_type": "code",
   "execution_count": 9,
   "metadata": {},
   "outputs": [
    {
     "name": "stderr",
     "output_type": "stream",
     "text": [
      "/home/isws/anaconda3/lib/python3.7/site-packages/sklearn/metrics/classification.py:1143: UndefinedMetricWarning: Precision and F-score are ill-defined and being set to 0.0 in labels with no predicted samples.\n",
      "  'precision', 'predicted', average, warn_for)\n",
      "/home/isws/anaconda3/lib/python3.7/site-packages/sklearn/metrics/classification.py:1145: UndefinedMetricWarning: Recall and F-score are ill-defined and being set to 0.0 in labels with no true samples.\n",
      "  'recall', 'true', average, warn_for)\n"
     ]
    },
    {
     "data": {
      "text/plain": [
       "(0.6216216216216216, 0.5842342342342343, 0.5963963963963964, None)"
      ]
     },
     "execution_count": 9,
     "metadata": {},
     "output_type": "execute_result"
    }
   ],
   "source": [
    "precision_recall_fscore_support(y_true_wiki, y_pred_wiki, average='macro')"
   ]
  },
  {
   "cell_type": "code",
   "execution_count": 10,
   "metadata": {},
   "outputs": [
    {
     "data": {
      "text/plain": [
       "(0.3904109589041096, 0.3732876712328767, 0.3787671232876712, None)"
      ]
     },
     "execution_count": 10,
     "metadata": {},
     "output_type": "execute_result"
    }
   ],
   "source": [
    "precision_recall_fscore_support(y_true_pedia, y_pred_pedia, average='macro')"
   ]
  },
  {
   "cell_type": "code",
   "execution_count": 11,
   "metadata": {},
   "outputs": [],
   "source": [
    "y_pred = []\n",
    "for row in df.iterrows():\n",
    "    org = row[1]['Organization']\n",
    "    pred = dbpedia_spotlight(org)\n",
    "    y_pred.append(pred)# pred[pred.rfind('/'):]"
   ]
  },
  {
   "cell_type": "code",
   "execution_count": 12,
   "metadata": {},
   "outputs": [
    {
     "data": {
      "text/plain": [
       "(0.21453900709219859, 0.22340425531914893, 0.21719858156028365, None)"
      ]
     },
     "execution_count": 12,
     "metadata": {},
     "output_type": "execute_result"
    }
   ],
   "source": [
    "precision_recall_fscore_support(y_true_pedia, y_pred, average='macro')"
   ]
  },
  {
   "cell_type": "code",
   "execution_count": 20,
   "metadata": {},
   "outputs": [],
   "source": [
    "def opentapioca(text):\n",
    "    url = \"https://opentapioca.org/api/annotate\"\n",
    "\n",
    "    payload = f\"query={text.replace(' ', '%20')}\"\n",
    "    headers = {\n",
    "        'content-type': \"application/x-www-form-urlencoded\",\n",
    "        'accept': \"application/json\",\n",
    "        'authorization': \"Bearer: c3d567607acd70d022621918da649ed2b8b173dd\"\n",
    "        }\n",
    "    \n",
    "    response = requests.request(\"POST\", url, data=payload.encode('utf-8'), headers=headers)\n",
    "    try:\n",
    "        return response.json()[\"annotations\"][0]['tags'][0]['id']\n",
    "    except Exception as e:\n",
    "        return ''"
   ]
  },
  {
   "cell_type": "code",
   "execution_count": 26,
   "metadata": {},
   "outputs": [],
   "source": [
    "y_pred2 = []\n",
    "for row in df.iterrows():\n",
    "    org = row[1]['Organization']\n",
    "    pred = opentapioca(org)\n",
    "    y_pred2.append(f'/{pred}')"
   ]
  },
  {
   "cell_type": "code",
   "execution_count": 27,
   "metadata": {},
   "outputs": [
    {
     "data": {
      "text/plain": [
       "(0.4329004329004329, 0.420995670995671, 0.42308802308802307, None)"
      ]
     },
     "execution_count": 27,
     "metadata": {},
     "output_type": "execute_result"
    }
   ],
   "source": [
    "precision_recall_fscore_support(y_true_wiki, y_pred2, average='macro')"
   ]
  }
 ],
 "metadata": {
  "kernelspec": {
   "display_name": "Python 3",
   "language": "python",
   "name": "python3"
  },
  "language_info": {
   "codemirror_mode": {
    "name": "ipython",
    "version": 3
   },
   "file_extension": ".py",
   "mimetype": "text/x-python",
   "name": "python",
   "nbconvert_exporter": "python",
   "pygments_lexer": "ipython3",
   "version": "3.7.3"
  }
 },
 "nbformat": 4,
 "nbformat_minor": 2
}
