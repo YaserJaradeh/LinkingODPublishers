{
 "cells": [
  {
   "cell_type": "code",
   "execution_count": 1,
   "metadata": {},
   "outputs": [],
   "source": [
    "import requests\n",
    "import csv\n",
    "import pandas as pd\n",
    "import numpy as np"
   ]
  },
  {
   "cell_type": "code",
   "execution_count": 2,
   "metadata": {},
   "outputs": [],
   "source": [
    "def search_wikidata(entity):\n",
    "    url = \"https://www.wikidata.org/w/api.php?action=wbsearchentities&search=\"+entity+\"&language=en&format=json\"\n",
    "    response = requests.request(\"GET\", url)\n",
    "    try:\n",
    "        res = response.json()['search'][0]\n",
    "        return res['concepturi'], res['label']\n",
    "    except:\n",
    "        return '', ''"
   ]
  },
  {
   "cell_type": "code",
   "execution_count": 3,
   "metadata": {},
   "outputs": [],
   "source": [
    "def search_dbpedia(entity):\n",
    "    url = \"http://lookup.dbpedia.org/api/search/PrefixSearch\"\n",
    "    querystring = {\"MaxHits\":\"5\",\"QueryString\":entity}\n",
    "    headers = {\n",
    "        'Accept': \"application/json\",\n",
    "        'cache-control': \"no-cache\",\n",
    "        'Postman-Token': \"c0a7c9ad-4277-408e-b5d6-fb03f9cbd526\"\n",
    "        }\n",
    "    response = requests.request(\"GET\", url, headers=headers, params=querystring)\n",
    "    try:\n",
    "        res = response.json()['results'][0]\n",
    "        return res['uri'], res['label']\n",
    "    except:\n",
    "        return '', ''"
   ]
  },
  {
   "cell_type": "code",
   "execution_count": 4,
   "metadata": {},
   "outputs": [
    {
     "data": {
      "text/html": [
       "<div>\n",
       "<style scoped>\n",
       "    .dataframe tbody tr th:only-of-type {\n",
       "        vertical-align: middle;\n",
       "    }\n",
       "\n",
       "    .dataframe tbody tr th {\n",
       "        vertical-align: top;\n",
       "    }\n",
       "\n",
       "    .dataframe thead th {\n",
       "        text-align: right;\n",
       "    }\n",
       "</style>\n",
       "<table border=\"1\" class=\"dataframe\">\n",
       "  <thead>\n",
       "    <tr style=\"text-align: right;\">\n",
       "      <th></th>\n",
       "      <th>row</th>\n",
       "    </tr>\n",
       "  </thead>\n",
       "  <tbody>\n",
       "    <tr>\n",
       "      <th>0</th>\n",
       "      <td>(130_179_67_140,\"Agriculture and Agri-Food Can...</td>\n",
       "    </tr>\n",
       "    <tr>\n",
       "      <th>1</th>\n",
       "      <td>(130_179_67_140,\"Algal Taxonomy and Ecology In...</td>\n",
       "    </tr>\n",
       "    <tr>\n",
       "      <th>2</th>\n",
       "      <td>(130_179_67_140,BaySys)</td>\n",
       "    </tr>\n",
       "    <tr>\n",
       "      <th>3</th>\n",
       "      <td>(130_179_67_140,C-Core)</td>\n",
       "    </tr>\n",
       "    <tr>\n",
       "      <th>4</th>\n",
       "      <td>(130_179_67_140,CEOS)</td>\n",
       "    </tr>\n",
       "  </tbody>\n",
       "</table>\n",
       "</div>"
      ],
      "text/plain": [
       "                                                 row\n",
       "0  (130_179_67_140,\"Agriculture and Agri-Food Can...\n",
       "1  (130_179_67_140,\"Algal Taxonomy and Ecology In...\n",
       "2                            (130_179_67_140,BaySys)\n",
       "3                            (130_179_67_140,C-Core)\n",
       "4                              (130_179_67_140,CEOS)"
      ]
     },
     "execution_count": 4,
     "metadata": {},
     "output_type": "execute_result"
    }
   ],
   "source": [
    "df = pd.read_csv('./organizations_per_portal.csv')\n",
    "df.head()"
   ]
  },
  {
   "cell_type": "code",
   "execution_count": 23,
   "metadata": {},
   "outputs": [],
   "source": [
    "results = [['Portal', 'Organization', 'Wikidata URI', 'DBpedia URI']]\n",
    "for value in df.values:\n",
    "    clean_row = value[0].replace('\"','')[1:-1]\n",
    "    portal = clean_row[:clean_row.find(',')]\n",
    "    org = clean_row[clean_row.find(',')+1:]\n",
    "    wiki = search_wikidata(org)[0]\n",
    "    pedia = search_dbpedia(org)[0]\n",
    "    results.append([portal, org, wiki, pedia])"
   ]
  },
  {
   "cell_type": "code",
   "execution_count": 29,
   "metadata": {
    "scrolled": true
   },
   "outputs": [],
   "source": [
    "with open('./linker_results_all.csv', 'w') as f:\n",
    "    writer = csv.writer(f)\n",
    "    writer.writerows(results)"
   ]
  }
 ],
 "metadata": {
  "kernelspec": {
   "display_name": "Python 3",
   "language": "python",
   "name": "python3"
  },
  "language_info": {
   "codemirror_mode": {
    "name": "ipython",
    "version": 3
   },
   "file_extension": ".py",
   "mimetype": "text/x-python",
   "name": "python",
   "nbconvert_exporter": "python",
   "pygments_lexer": "ipython3",
   "version": "3.7.3"
  }
 },
 "nbformat": 4,
 "nbformat_minor": 2
}
